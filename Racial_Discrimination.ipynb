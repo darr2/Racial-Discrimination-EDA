{
 "cells": [
  {
   "cell_type": "markdown",
   "metadata": {},
   "source": [
    "# Examining Racial Discrimination in the US Job Market\n",
    "\n",
    "### Background\n",
    "Racial discrimination continues to be pervasive in cultures throughout the world. Researchers examined the level of racial discrimination in the United States labor market by randomly assigning identical résumés to black-sounding or white-sounding names and observing the impact on requests for interviews from employers.\n",
    "\n",
    "### Data\n",
    "In the dataset provided, each row represents a resume. The 'race' column has two values, 'b' and 'w', indicating black-sounding and white-sounding. The column 'call' has two values, 1 and 0, indicating whether the resume received a call from employers or not.\n",
    "\n",
    "Note that the 'b' and 'w' values in race are assigned randomly to the resumes when presented to the employer."
   ]
  },
  {
   "cell_type": "markdown",
   "metadata": {},
   "source": [
    "<!-- <div class=\"span5 alert alert-info\"> -->\n",
    "### Exercises\n",
    "You will perform a statistical analysis to establish whether race has a significant impact on the rate of callbacks for resumes.\n",
    "\n",
    "Answer the following questions **in this notebook below and submit to your Github account**. \n",
    "\n",
    "   1. What test is appropriate for this problem? Does CLT apply?\n",
    "   2. What are the null and alternate hypotheses?\n",
    "   3. Compute margin of error, confidence interval, and p-value. Try using both the bootstrapping and the frequentist statistical approaches.\n",
    "   4. Write a story describing the statistical significance in the context or the original problem.\n",
    "   5. Does your analysis mean that race/name is the most important factor in callback success? Why or why not? If not, how would you amend your analysis?\n",
    "\n",
    "You can include written notes in notebook cells using Markdown: \n",
    "   - In the control panel at the top, choose Cell > Cell Type > Markdown\n",
    "   - Markdown syntax: http://nestacms.com/docs/creating-content/markdown-cheat-sheet\n",
    "\n",
    "\n",
    "#### Resources\n",
    "+ Experiment information and data source: http://www.povertyactionlab.org/evaluation/discrimination-job-market-united-states\n",
    "+ Scipy statistical methods: http://docs.scipy.org/doc/scipy/reference/stats.html \n",
    "+ Markdown syntax: http://nestacms.com/docs/creating-content/markdown-cheat-sheet\n",
    "+ Formulas for the Bernoulli distribution: https://en.wikipedia.org/wiki/Bernoulli_distribution\n",
    "<!-- </div> -->\n",
    "****"
   ]
  },
  {
   "cell_type": "code",
   "execution_count": 2,
   "metadata": {},
   "outputs": [],
   "source": [
    "import pandas as pd\n",
    "import numpy as np\n",
    "from scipy import stats\n",
    "import seaborn as sns\n",
    "import matplotlib.pyplot as plt"
   ]
  },
  {
   "cell_type": "code",
   "execution_count": 3,
   "metadata": {},
   "outputs": [],
   "source": [
    "data = pd.io.stata.read_stata('data/us_job_market_discrimination.dta')"
   ]
  },
  {
   "cell_type": "code",
   "execution_count": 4,
   "metadata": {},
   "outputs": [
    {
     "data": {
      "text/plain": [
       "235.0"
      ]
     },
     "execution_count": 4,
     "metadata": {},
     "output_type": "execute_result"
    }
   ],
   "source": [
    "# number of callbacks for black-sounding names\n",
    "sum(data[data.race=='w'].call)"
   ]
  },
  {
   "cell_type": "code",
   "execution_count": 5,
   "metadata": {},
   "outputs": [
    {
     "data": {
      "text/html": [
       "<div>\n",
       "<style scoped>\n",
       "    .dataframe tbody tr th:only-of-type {\n",
       "        vertical-align: middle;\n",
       "    }\n",
       "\n",
       "    .dataframe tbody tr th {\n",
       "        vertical-align: top;\n",
       "    }\n",
       "\n",
       "    .dataframe thead th {\n",
       "        text-align: right;\n",
       "    }\n",
       "</style>\n",
       "<table border=\"1\" class=\"dataframe\">\n",
       "  <thead>\n",
       "    <tr style=\"text-align: right;\">\n",
       "      <th></th>\n",
       "      <th>id</th>\n",
       "      <th>ad</th>\n",
       "      <th>education</th>\n",
       "      <th>ofjobs</th>\n",
       "      <th>yearsexp</th>\n",
       "      <th>honors</th>\n",
       "      <th>volunteer</th>\n",
       "      <th>military</th>\n",
       "      <th>empholes</th>\n",
       "      <th>occupspecific</th>\n",
       "      <th>...</th>\n",
       "      <th>compreq</th>\n",
       "      <th>orgreq</th>\n",
       "      <th>manuf</th>\n",
       "      <th>transcom</th>\n",
       "      <th>bankreal</th>\n",
       "      <th>trade</th>\n",
       "      <th>busservice</th>\n",
       "      <th>othservice</th>\n",
       "      <th>missind</th>\n",
       "      <th>ownership</th>\n",
       "    </tr>\n",
       "    <tr>\n",
       "      <th>race</th>\n",
       "      <th></th>\n",
       "      <th></th>\n",
       "      <th></th>\n",
       "      <th></th>\n",
       "      <th></th>\n",
       "      <th></th>\n",
       "      <th></th>\n",
       "      <th></th>\n",
       "      <th></th>\n",
       "      <th></th>\n",
       "      <th></th>\n",
       "      <th></th>\n",
       "      <th></th>\n",
       "      <th></th>\n",
       "      <th></th>\n",
       "      <th></th>\n",
       "      <th></th>\n",
       "      <th></th>\n",
       "      <th></th>\n",
       "      <th></th>\n",
       "      <th></th>\n",
       "    </tr>\n",
       "  </thead>\n",
       "  <tbody>\n",
       "    <tr>\n",
       "      <th>b</th>\n",
       "      <td>2435</td>\n",
       "      <td>2435</td>\n",
       "      <td>2435</td>\n",
       "      <td>2435</td>\n",
       "      <td>2435</td>\n",
       "      <td>2435</td>\n",
       "      <td>2435</td>\n",
       "      <td>2435</td>\n",
       "      <td>2435</td>\n",
       "      <td>2435</td>\n",
       "      <td>...</td>\n",
       "      <td>2435</td>\n",
       "      <td>2435</td>\n",
       "      <td>2435</td>\n",
       "      <td>2435</td>\n",
       "      <td>2435</td>\n",
       "      <td>2435</td>\n",
       "      <td>2435</td>\n",
       "      <td>2435</td>\n",
       "      <td>2435</td>\n",
       "      <td>2435</td>\n",
       "    </tr>\n",
       "    <tr>\n",
       "      <th>w</th>\n",
       "      <td>2435</td>\n",
       "      <td>2435</td>\n",
       "      <td>2435</td>\n",
       "      <td>2435</td>\n",
       "      <td>2435</td>\n",
       "      <td>2435</td>\n",
       "      <td>2435</td>\n",
       "      <td>2435</td>\n",
       "      <td>2435</td>\n",
       "      <td>2435</td>\n",
       "      <td>...</td>\n",
       "      <td>2435</td>\n",
       "      <td>2435</td>\n",
       "      <td>2435</td>\n",
       "      <td>2435</td>\n",
       "      <td>2435</td>\n",
       "      <td>2435</td>\n",
       "      <td>2435</td>\n",
       "      <td>2435</td>\n",
       "      <td>2435</td>\n",
       "      <td>2435</td>\n",
       "    </tr>\n",
       "  </tbody>\n",
       "</table>\n",
       "<p>2 rows × 64 columns</p>\n",
       "</div>"
      ],
      "text/plain": [
       "        id    ad  education  ofjobs  yearsexp  honors  volunteer  military  \\\n",
       "race                                                                         \n",
       "b     2435  2435       2435    2435      2435    2435       2435      2435   \n",
       "w     2435  2435       2435    2435      2435    2435       2435      2435   \n",
       "\n",
       "      empholes  occupspecific    ...      compreq  orgreq  manuf  transcom  \\\n",
       "race                             ...                                         \n",
       "b         2435           2435    ...         2435    2435   2435      2435   \n",
       "w         2435           2435    ...         2435    2435   2435      2435   \n",
       "\n",
       "      bankreal  trade  busservice  othservice  missind  ownership  \n",
       "race                                                               \n",
       "b         2435   2435        2435        2435     2435       2435  \n",
       "w         2435   2435        2435        2435     2435       2435  \n",
       "\n",
       "[2 rows x 64 columns]"
      ]
     },
     "execution_count": 5,
     "metadata": {},
     "output_type": "execute_result"
    }
   ],
   "source": [
    "data.groupby('race').count()"
   ]
  },
  {
   "cell_type": "markdown",
   "metadata": {
    "collapsed": true
   },
   "source": [
    "<!-- <div class=\"span5 alert alert-success\"> -->\n",
    "<p><b>1.</b> The test that is most appropriate for this problem would be the two sample z-test.  The reason being is that we are working with 2435 samples of black and white applicants each, and we want to determine if there is a significant difference in the number of callbacks received from both categories.  The CLT applies here due to our large sample of white and black applicants.  If we treat both categories separately, theoretically, their sample means would converge on to the true mean.</p>\n",
    "<p><b>2.</b>\n",
    "    <ul>\n",
    "        <li>\n",
    "            H<sub>0</sub>: &mu;<sub>B</sub> $-$ &mu;<sub>W</sub> $=$ 0\n",
    "        </li>\n",
    "        <li>\n",
    "            H<sub>A</sub>: &mu;<sub>B</sub> $-$ &mu;<sub>W</sub> ${\\neq}$ 0\n",
    "        </li>\n",
    "    </ul>\n",
    "</p>\n",
    "<!-- </div> -->"
   ]
  },
  {
   "cell_type": "code",
   "execution_count": 6,
   "metadata": {},
   "outputs": [],
   "source": [
    "w = data[data.race=='w']\n",
    "b = data[data.race=='b']"
   ]
  },
  {
   "cell_type": "code",
   "execution_count": 7,
   "metadata": {},
   "outputs": [
    {
     "data": {
      "image/png": "[encoded data removed]",
      "text/plain": [
       "<Figure size 432x288 with 1 Axes>"
      ]
     },
     "metadata": {},
     "output_type": "display_data"
    },
    {
     "name": "stdout",
     "output_type": "stream",
     "text": [
      "Margin of error for bootstrap test : 0.00015253255347679392\n",
      "Confidence interval for bootstrap test : [0.03183732 0.03214239]\n",
      "p_value for boostrap test : 1.0046\n"
     ]
    }
   ],
   "source": [
    "# Your solution to Q3 here\n",
    "def draw_bs_reps(data, func, size=1):\n",
    "   bs_replicates = np.empty(size)\n",
    "   for i in range(size):\n",
    "       bs_replicates[i] = func(np.random.choice(data, len(data)))\n",
    "   return bs_replicates\n",
    "\n",
    "b_reps = draw_bs_reps(data=b.call, func=np.mean, size=10000)\n",
    "w_reps = draw_bs_reps(data=w.call, func=np.mean, size=10000)\n",
    "\n",
    "sns.distplot(b_reps, hist=False, label='Black Applicants')\n",
    "sns.distplot(w_reps, hist=False, label='White Applicants')\n",
    "plt.xlabel('Average Callback')\n",
    "plt.ylabel('Frequency')\n",
    "plt.show()\n",
    "\n",
    "#assuming 95% confidence level\n",
    "SE = np.sqrt(b_reps.var()/10000 + w_reps.var()/10000)\n",
    "sample_diff_mean = w.call.mean() - b.call.mean()\n",
    "diff_means_reps = w_reps - b_reps\n",
    "\n",
    "margin_of_error = 1.96 * SE\n",
    "conf_intvl = np.array([diff_means_reps.mean() - margin_of_error, diff_means_reps.mean() + margin_of_error])\n",
    "#p_value = np.sum(diff_means_reps >= sample_diff_mean)/len(diff_means_reps) * 2  \n",
    "\n",
    "print('Margin of error for bootstrap test :', margin_of_error)\n",
    "print('Confidence interval for bootstrap test :', conf_intvl)\n",
    "#print('p_value for boostrap test :', p_value)"
   ]
  },
  {
   "cell_type": "code",
   "execution_count": 82,
   "metadata": {},
   "outputs": [
    {
     "name": "stdout",
     "output_type": "stream",
     "text": [
      "Margin of error for z-test :  0.015258417380692\n",
      "Z value for z-test:  4.1147383735462695\n",
      "Confidence interval for z-test : [0.01677444 0.04729127]\n",
      "p_value for z-test:  1.938094035054421e-05\n"
     ]
    }
   ],
   "source": [
    "#assuming 95% confidence level\n",
    "SE = np.sqrt(b.call.var()/len(b.call)+w.call.var()/len(w.call))\n",
    "margin_of_error = 1.96 * SE\n",
    "conf_intvl = np.array([sample_diff_mean - margin_of_error, sample_diff_mean + margin_of_error])\n",
    "z_value = (sample_diff_mean)/SE\n",
    "p_value = stats.norm.sf(abs(z_value))\n",
    "\n",
    "print('Margin of error for z-test : ', margin_of_error)\n",
    "print('Z value for z-test: ', z_value)\n",
    "print('Confidence interval for z-test :', conf_intvl)\n",
    "print('p_value for z-test: ', p_value)"
   ]
  },
  {
   "cell_type": "markdown",
   "metadata": {},
   "source": [
    "<!-- <div class=\"span5 alert alert-success\"> -->\n",
    "<p><b>4.</b> Racial discrimination in the job market has always been a controversial issue in the United States. In the given problem, we are trying to determine if there is no discrimination when it comes to candidates receiving callbacks.  From our findings, however we see that from the z-test, we have p_value of roughly, 0.0000194 which is small enough to reject the null hypothesis stating that there is no difference in the number of callbacks with repect to race.  We needed to have a p_value greater than 0.05 to fail to reject our hypothesis.</p>\n",
    "<p><b>5.</b>From our statistical analaysis, it could be easy to jump to the conclusion that race does play a role in callbacks.  However, race shouldn't be considered the only factor.  Other factors such as education, work experience, skillsets, and other qualifications should be considered in the analysis before making such a strong yet polarizing claim!\n",
    "</p>\n",
    "<!-- </div> -->"
   ]
  }
 ],
 "metadata": {
  "kernelspec": {
   "display_name": "Python 3",
   "language": "python",
   "name": "python3"
  },
  "language_info": {
   "codemirror_mode": {
    "name": "ipython",
    "version": 3
   },
   "file_extension": ".py",
   "mimetype": "text/x-python",
   "name": "python",
   "nbconvert_exporter": "python",
   "pygments_lexer": "ipython3",
   "version": "3.6.5"
  }
 },
 "nbformat": 4,
 "nbformat_minor": 1
}
